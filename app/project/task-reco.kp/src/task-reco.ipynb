{
 "cells": [
  {
   "cell_type": "raw",
   "metadata": {},
   "source": [
    "---\n",
    "title: A simple task recommender & network graph\n",
    "authors:\n",
    "- Mike Schulte\n",
    "tags:\n",
    "- recommendation\n",
    "- sp\n",
    "created_at: 2016-06-29\n",
    "updated_at: 2016-06-30\n",
    "tldr: Simple recommedation engine using item-item approach\n",
    "---"
   ]
  },
  {
   "cell_type": "markdown",
   "metadata": {},
   "source": [
    "### Motivation"
   ]
  },
  {
   "cell_type": "markdown",
   "metadata": {},
   "source": [
    "Wanted to identify similar tasks based on way an SP is profiled, i.e group of SPs share tasks but not all, to aid in upselling tasks.  Idea of this post is to show this relationship visually with a network graph\n",
    "\n",
    "*This notebook skips the recommendation table creation*"
   ]
  },
  {
   "cell_type": "code",
   "execution_count": null,
   "metadata": {},
   "outputs": [],
   "source": [
    "import os\n",
    "import snowflake.connector as sf\n",
    "\n",
    "import pandas as pd\n",
    "import numpy as np\n",
    "pd.set_option('display.float_format', lambda x: '%.3f' % x)\n",
    "\n",
    "import matplotlib.pyplot as plt\n",
    "import seaborn as sns\n",
    "% matplotlib inline\n",
    "plt.style.use('fivethirtyeight')\n",
    "\n",
    "import plotly.plotly as py\n",
    "import plotly.graph_objs as go\n",
    "import plotly as pl\n",
    "pl.tools.set_credentials_file(username = 'mwschulte23', api_key = 'cyZTgFgDA2bFBCLksCsm')\n",
    "import plotly.offline as pyo\n",
    "pyo.init_notebook_mode(connected=True)\n",
    "\n",
    "import networkx as nx\n",
    "\n",
    "from scipy.sparse import csr_matrix\n",
    "from sklearn.neighbors import NearestNeighbors"
   ]
  },
  {
   "cell_type": "markdown",
   "metadata": {},
   "source": [
    "### SQL Query"
   ]
  },
  {
   "cell_type": "code",
   "execution_count": null,
   "metadata": {},
   "outputs": [],
   "source": [
    "query = '''\n",
    "select sp.user_id sp_id\n",
    "     , st.task_oid\n",
    "     , td.task task_name\n",
    "     , td.pwc pwc_name\n",
    "  from landing.wisen_data.ws_sp_profile sp\n",
    "     , landing.wisen_data.sm_service_task st\n",
    "     , rpt.reports.task_dim td\n",
    " where sp.user_id = st.sp_id\n",
    "   and sp.service_profile_id = st.service_profile_id\n",
    "   and st.task_oid = td.task_oid\n",
    "   and sp.service_profile_id = 1\n",
    "   and sp.status_code = 3\n",
    "   and sp.accept_type = 2\n",
    "'''"
   ]
  },
  {
   "cell_type": "markdown",
   "metadata": {},
   "source": [
    "### Data Load & Quick Look"
   ]
  },
  {
   "cell_type": "code",
   "execution_count": null,
   "metadata": {},
   "outputs": [],
   "source": [
    "def data_load(query):\n",
    "    conn = sf.connect(user = os.getenv('SF_USER'), password = os.getenv('SF_PASSWORD'), account = 'homeadvisor')\n",
    "    out_df = pd.read_sql(query, conn)\n",
    "    conn.close()\n",
    "    \n",
    "    return out_df\n",
    "\n",
    "df1 = data_load(query)\n",
    "\n",
    "print('There are {0:,.0f} rows and {1:,.0f} columns'.format(df1.shape[0], df1.shape[1]))\n",
    "df1.head()"
   ]
  },
  {
   "cell_type": "markdown",
   "metadata": {},
   "source": [
    "### Data Prep"
   ]
  },
  {
   "cell_type": "markdown",
   "metadata": {},
   "source": [
    "For this simple exploration, we want to remove SPs with only a few tasks as well as remove tasks with only a few SPs profiled. Below code filters out a percentile of both SPs & tasks"
   ]
  },
  {
   "cell_type": "code",
   "execution_count": null,
   "metadata": {},
   "outputs": [],
   "source": [
    "def top_list(df, group, percentile):\n",
    "    '''get list of top X percentile of tasks or SPs'''\n",
    "    cols = ['TASK_OID', 'SP_ID']\n",
    "    \n",
    "    if group == 'SP_ID':\n",
    "        counts = df1.groupby(cols[1]).count()[cols[0]].to_frame()\n",
    "        cut_off = counts[cols[0]].quantile(percentile)\n",
    "        top = list(counts.loc[counts[cols[0]] >= cut_off].index)\n",
    "    elif group == 'TASK_OID':\n",
    "        counts = df1.groupby(cols[0]).count()[cols[1]].to_frame()\n",
    "        cut_off = counts[cols[1]].quantile(percentile)\n",
    "        top = list(counts.loc[counts[cols[1]] >= cut_off].index)\n",
    "    \n",
    "    return top\n",
    "\n",
    "top_tasks = top_list(df1, 'TASK_OID', .5)\n",
    "top_sps = top_list(df1, 'SP_ID', .25)\n",
    "\n",
    "top_group = df1.loc[(df1['TASK_OID'].isin(top_tasks)) & (df1['SP_ID'].isin(top_sps))]\n",
    "\n",
    "wide_sp_task = pd.crosstab(index = top_group['TASK_OID'], columns = top_group['SP_ID'])\n",
    "wide_sp_task.index = pd.Series(wide_sp_task.index).map(df1.groupby('TASK_OID').last()['TASK_NAME'])\n",
    "wide_st_sparse = csr_matrix(wide_sp_task)"
   ]
  },
  {
   "cell_type": "markdown",
   "metadata": {},
   "source": [
    "### Creating Recommendations"
   ]
  },
  {
   "cell_type": "code",
   "execution_count": null,
   "metadata": {},
   "outputs": [],
   "source": [
    "NEIGHBORS = 4\n",
    "\n",
    "nn = NearestNeighbors(metric = 'cosine')\n",
    "nn.fit(wide_st_sparse)\n",
    "\n",
    "distance, indices = nn.kneighbors(wide_sp_task, n_neighbors = NEIGHBORS)"
   ]
  },
  {
   "cell_type": "code",
   "execution_count": null,
   "metadata": {},
   "outputs": [],
   "source": [
    "def flattened_table(df, indices, distance):\n",
    "    reco_list = []\n",
    "\n",
    "    for i in range(df.shape[0]):\n",
    "        x = pd.DataFrame({'SIMILAR_TASK':df.index[indices][i][1:],\n",
    "                          'SIMILARITY':distance[i][1:]}, index = [df.index[indices][i][0]] * (NEIGHBORS - 1))\n",
    "        reco_list.append(x)\n",
    "\n",
    "    out_df = pd.concat(reco_list).reset_index().rename(columns = {'index': 'TARGET_TASK'})\n",
    "    \n",
    "    out_df = out_df.loc[out_df['SIMILARITY'] > 0]\n",
    "    \n",
    "    return out_df\n",
    "\n",
    "similarity_df = flattened_table(wide_sp_task, indices, distance) "
   ]
  },
  {
   "cell_type": "code",
   "execution_count": null,
   "metadata": {},
   "outputs": [],
   "source": [
    "similarity_df.head()"
   ]
  },
  {
   "cell_type": "markdown",
   "metadata": {},
   "source": [
    "Our model created two arrays:\n",
    "* indices: functionally the 'location' in a table where most similar tasks live - shape = n * NEIGHBORS\n",
    "* distance: the cosine distance of each task, this is same shape as indices array\n",
    "\n",
    "With these arrays, I created a flattened table with task pairs & similiarity measurement (0 is closest, 1 is furthest)"
   ]
  },
  {
   "cell_type": "markdown",
   "metadata": {},
   "source": [
    "### Creating the Network Graph"
   ]
  },
  {
   "cell_type": "code",
   "execution_count": null,
   "metadata": {},
   "outputs": [],
   "source": [
    "grid = pd.DataFrame(nn.kneighbors_graph(wide_st_sparse, n_neighbors = 4).toarray().astype(int),\n",
    "                    index = wide_sp_task.index, columns = wide_sp_task.index)\n",
    "\n",
    "keys = [i for i in range(grid.shape[0])]\n",
    "vals = list(grid.index)\n",
    "\n",
    "graph_labels = dict(zip(keys, vals))\n",
    "\n",
    "G = nx.from_numpy_matrix(grid.values)\n",
    "pos = nx.fruchterman_reingold_layout(G)\n",
    "\n",
    "xn = []\n",
    "yn = []\n",
    "\n",
    "for i in pos:\n",
    "    xn.append(pos[i][0])\n",
    "    yn.append(pos[i][1])\n",
    "\n",
    "node_trace = go.Scatter(x = xn, \n",
    "                        y = yn, \n",
    "                        mode = 'markers',\n",
    "                        text = list(graph_labels.values()),\n",
    "                        hoverinfo = 'text',\n",
    "                        marker = dict(color = 'rgba(17, 157, 255, 0.5)',\n",
    "                                      size = 8))\n",
    "\n",
    "x = []\n",
    "y = []\n",
    "\n",
    "for i, j in G.edges():\n",
    "    x0, y0 = pos[i][0], pos[j][0]\n",
    "    x1, y1 = pos[i][1], pos[j][1]\n",
    "    x += [x0, y0, None]\n",
    "    y += [x1, y1, None]\n",
    "    \n",
    "edge_trace = go.Scatter(x= x,\n",
    "                        y= y,\n",
    "                        line=dict(width = .5, color = '#888'),\n",
    "                        hoverinfo = 'none',\n",
    "                        mode = 'lines')\n",
    "\n",
    "fig = go.Figure(data=[edge_trace, node_trace],\n",
    "             layout=go.Layout(\n",
    "                title='Task Recommendation - Network Graph',\n",
    "                titlefont=dict(size=16),\n",
    "                showlegend=False,\n",
    "                hovermode='closest',\n",
    "                margin=dict(b=20,l=5,r=5,t=40),\n",
    "                xaxis=dict(showgrid=False, zeroline=False, showticklabels=False),\n",
    "                yaxis=dict(showgrid=False, zeroline=False, showticklabels=False)))\n",
    "\n",
    "\n",
    "py.iplot(fig)"
   ]
  }
 ],
 "metadata": {
  "hide_input": false,
  "kernelspec": {
   "display_name": "Python 3",
   "language": "python",
   "name": "python3"
  },
  "language_info": {
   "codemirror_mode": {
    "name": "ipython",
    "version": 3
   },
   "file_extension": ".py",
   "mimetype": "text/x-python",
   "name": "python",
   "nbconvert_exporter": "python",
   "pygments_lexer": "ipython3",
   "version": "3.6.5"
  }
 },
 "nbformat": 4,
 "nbformat_minor": 1
}